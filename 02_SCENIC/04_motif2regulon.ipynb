{
 "cells": [
  {
   "cell_type": "code",
   "execution_count": 3,
   "id": "e38c5161-97bd-4a72-a9a5-8994afe946b8",
   "metadata": {},
   "outputs": [],
   "source": [
    "from pyscenic.utils import load_motifs\n",
    "from pyscenic.prune import prune2df, df2regulons\n",
    "from ctxcore.genesig import Regulon\n",
    "from pandas import read_excel\n",
    "import os"
   ]
  },
  {
   "cell_type": "code",
   "execution_count": 5,
   "id": "bf2ba503-5c6d-4bee-b571-4c9695435ade",
   "metadata": {},
   "outputs": [
    {
     "data": {
      "text/plain": [
       "'/store/Pancancer_Metab/Public/PanCan/src/5_SCENIC'"
      ]
     },
     "execution_count": 5,
     "metadata": {},
     "output_type": "execute_result"
    }
   ],
   "source": [
    "os.getcwd()"
   ]
  },
  {
   "cell_type": "code",
   "execution_count": 25,
   "id": "aaef984a",
   "metadata": {},
   "outputs": [],
   "source": [
    "datasets = read_excel(\"../../../Datasets.xlsx\")"
   ]
  },
  {
   "cell_type": "code",
   "execution_count": 26,
   "id": "7d007c5f",
   "metadata": {},
   "outputs": [
    {
     "data": {
      "text/plain": [
       "0           BRCA\n",
       "1    BRCA_valid1\n",
       "2    BRCA_valid2\n",
       "3           LUAD\n",
       "4    LUAD_valid1\n",
       "5    LUAD_valid2\n",
       "6           COAD\n",
       "7           PAAD\n",
       "8           STAD\n",
       "9           PRAD\n",
       "Name: DataSets, dtype: object"
      ]
     },
     "execution_count": 26,
     "metadata": {},
     "output_type": "execute_result"
    }
   ],
   "source": [
    "datasets.DataSets"
   ]
  },
  {
   "cell_type": "code",
   "execution_count": 18,
   "id": "5078eb2e-21f7-4532-9f1b-9f2f41124e40",
   "metadata": {},
   "outputs": [
    {
     "name": "stdout",
     "output_type": "stream",
     "text": [
      "Create regulons from a dataframe of enriched features.\n",
      "Additional columns saved: []\n"
     ]
    }
   ],
   "source": [
    "df_motifs = load_motifs(input)\n",
    "# df_motifs\n",
    "regulons = df2regulons(df_motifs)"
   ]
  },
  {
   "cell_type": "code",
   "execution_count": null,
   "id": "059971c3-855e-47f2-b6a2-4c13364075cf",
   "metadata": {},
   "outputs": [],
   "source": [
    "for tumor in datasets.DataSets:\n",
    "    if tumor == \"BRCA_valid1\": continue\n",
    "\n",
    "    input = \"../../res/5_SCENIC/regulon/\" + tumor + \"_reg.csv\"\n",
    "    print(input)\n",
    "    \n",
    "    df_motifs = load_motifs(input)\n",
    "    # df_motifs\n",
    "    \n",
    "    regulons = df2regulons(df_motifs)\n",
    "    # regulons\n",
    "    \n",
    "    output = \"../../res/5_SCENIC/regulon/\" + tumor + \"_reg.gmt\"\n",
    "    print(output)\n",
    "    Regulon.to_gmt(output, regulons)\n",
    "    print()"
   ]
  }
 ],
 "metadata": {
  "kernelspec": {
   "display_name": "Python 3.6.13 ('scenic_protocol')",
   "language": "python",
   "name": "python3"
  },
  "language_info": {
   "codemirror_mode": {
    "name": "ipython",
    "version": 3
   },
   "file_extension": ".py",
   "mimetype": "text/x-python",
   "name": "python",
   "nbconvert_exporter": "python",
   "pygments_lexer": "ipython3",
   "version": "3.6.13"
  },
  "vscode": {
   "interpreter": {
    "hash": "df97ee040630eeb5a2322f8ed3c019fed02907a0d4c3af23974d0c8768c7e409"
   }
  }
 },
 "nbformat": 4,
 "nbformat_minor": 5
}
